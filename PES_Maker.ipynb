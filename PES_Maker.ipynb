
    import sys
    import json 
    import cmath
    import matplotlib
    import matplotlib.pyplot as plt
    from matplotlib.colors import LogNorm
    from numpy import sin, log, pi, angle, sqrt
    import numpy as np
    import mpmath as mp
    from scipy.special import sph_harm, lpmv
    from scipy import special
    from os.path import expanduser
    from scipy.signal import find_peaks
    idx =  [i for i, itr in enumerate(sys.path[0]) if itr == "/"]
    path_address = sys.path[0][:idx[-1]]
        
    sys.path.append('/mpdata/becker/yoge8051/Research/TDSE/General_FunctionsGeneral_Functions')
    import Module as Mod
    import PModule as PMod
    import plotly.graph_objects as go

def closest(lst, k): 
    r = lst[min(range(len(lst)), key = lambda i: abs(float(lst[i])-k))] 
    return r

def Wave_Function_Value(input_par, psi, grid, r, theta, phi, m=0):
    r = closest(grid, r)
    grid_idx = np.where(grid == r)[0][0]

    l_max_bs = input_par["l_max_bs"]
    return_val = 0.0j

    for l in range(m, l_max_bs):
        psi_idx = grid.size*l + grid_idx

        return_val += 1/r*psi[psi_idx]*lpmv(m, l, np.cos(theta))#sph_harm(m, l, phi, theta)
    


    return return_val
       
def PAD_Momentum(input_par, psi, grid, m):

    x_axis = np.linspace(-10 , 10, 20)
    y_axis = np.linspace(-10 , 10, 20)
    z_axis = np.linspace(-10 , 10, 20)

    pad_value = np.zeros((z_axis.size,y_axis.size))
    pad_value_magnitude = np.zeros((z_axis.size,y_axis.size, x_axis.size))
    pad_value_phase = np.zeros((z_axis.size,y_axis.size, x_axis.size))

    for i, x in enumerate(x_axis):
        print(round(x,3))
        for j, y in enumerate(y_axis):
            pad_value_temp = 0.0j

            for k, z in enumerate(z_axis):

                r = np.sqrt(x*x + y*y + z*z)
                if r == 0:
                    r = 0.01

                if x > 0 and y > 0:
                    phi = np.arctan(y/x)
                elif x > 0 and y < 0:
                    phi = np.arctan(y/x) + 2*pi
                elif x < 0 and y > 0:
                    phi = np.arctan(y/x) + pi
                elif x < 0 and y < 0:
                    phi = np.arctan(y/x) + pi
                elif x == 0 and y == 0:
                    phi = 0
                elif x == 0 and y > 0:
                    phi = pi / 2
                elif x == 0 and y < 0:
                    phi = 3*pi / 2
                elif y == 0 and x > 0:
                    phi = 0
                elif y == 0 and x < 0:
                    phi = pi

                theta = np.arccos(z/r)
                
                val = Wave_Function_Value(input_par, psi, grid, r, theta, phi, m)
                # pad_value_temp +=  np.power(np.abs(val),2)
                pad_value_magnitude[i, j, k] = np.power(np.abs(val),2)
                pad_value_phase[i, j, k] = cmath.phase(val)
            # pad_value[j, i] = pad_value_temp.real

    # pad_value_save = pad_value_save / pad_value_save.max()

    pad_value_magnitude_reshaped = pad_value_magnitude.reshape(pad_value_magnitude.shape[0], -1)
    pad_value_phase_reshaped = pad_value_phase.reshape(pad_value_phase.shape[0], -1)

    np.savetxt("O2_M1_13_Mag.txt",  pad_value_magnitude_reshaped)
    np.savetxt("O2_M1_13_Phase.txt",  pad_value_phase_reshaped)
    exit()
    return pad_value

def Psi_Plotter(input_par, psi, grid):
    block_to_qn, qn_to_block = Mod.Index_Map(input_par)
    n_max = input_par["n_max"]
    n_values = np.arange(1, n_max + 1)

    psi_grid = np.zeros(len(grid))
    for idx in qn_to_block:
        psi_grid += np.abs(psi[idx])

    return psi_grid


if __name__=="__main__":

    m = 1
    input_par = Mod.Input_File_Reader("input_O2.json")
    grid = Mod.Grid(input_par["grid_spacing"], input_par["grid_size"])
    grid= grid.grid
    energy, bound_states = Mod.Target_File_Reader_WO_Parity(input_par)
    
    psi = bound_states[(13, m)]
    print(energy[(13,m)])
   

    pad_value =  PAD_Momentum(input_par, psi, grid, m)
    pad_value = pad_value / pad_value.max()
    pos = plt.imshow(pad_value, cmap="viridis", extent=[-3, 3, -3, 3])#, norm=LogNorm(vmin=pow(10, -2), vmax=1))
    plt.colorbar(pos)
    plt.savefig("PAD.png")



    